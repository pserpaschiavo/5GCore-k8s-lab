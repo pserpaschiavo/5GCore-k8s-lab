{
 "cells": [
  {
   "cell_type": "markdown",
   "metadata": {},
   "source": [
    "## Setup the Experiment\n",
    "\n",
    "#### Import the FABlib Library"
   ]
  },
  {
   "cell_type": "code",
   "execution_count": null,
   "metadata": {},
   "outputs": [],
   "source": [
    "from fabrictestbed_extensions.fablib.fablib import FablibManager as fablib_manager\n",
    "\n",
    "# Update this line to specify your project id\n",
    "project_id = \"47556e8d-33f2-4482-b0b3-30f17ecb271b\"\n",
    "\n",
    "fablib = fablib_manager(project_id=project_id)"
   ]
  },
  {
   "cell_type": "code",
   "execution_count": null,
   "metadata": {},
   "outputs": [],
   "source": [
    "fablib.show_config();"
   ]
  },
  {
   "cell_type": "code",
   "execution_count": null,
   "metadata": {},
   "outputs": [],
   "source": [
    "fablib.verify_and_configure()"
   ]
  },
  {
   "cell_type": "code",
   "execution_count": null,
   "metadata": {},
   "outputs": [],
   "source": [
    "fablib.save_config()"
   ]
  },
  {
   "cell_type": "markdown",
   "metadata": {},
   "source": [
    "## List resources "
   ]
  },
  {
   "cell_type": "code",
   "execution_count": null,
   "metadata": {},
   "outputs": [],
   "source": [
    "output_table = fablib.list_sites()"
   ]
  },
  {
   "cell_type": "code",
   "execution_count": null,
   "metadata": {},
   "outputs": [],
   "source": [
    "output_table"
   ]
  },
  {
   "cell_type": "code",
   "execution_count": null,
   "metadata": {},
   "outputs": [],
   "source": [
    "fields=['name','cores_available','ram_available','disk_available','nic_basic_available']"
   ]
  },
  {
   "cell_type": "code",
   "execution_count": null,
   "metadata": {},
   "outputs": [],
   "source": [
    "\n",
    "# output_table = fablib.list_sites(fields=fields)\n",
    "output_table = fablib.list_sites(output='pandas',fields=fields)"
   ]
  },
  {
   "cell_type": "markdown",
   "metadata": {},
   "source": [
    "### Filter List"
   ]
  },
  {
   "cell_type": "code",
   "execution_count": null,
   "metadata": {},
   "outputs": [],
   "source": [
    "fablib.list_sites(filter_function=lambda x: x['nic_connectx_5_available'] > 2);"
   ]
  },
  {
   "cell_type": "markdown",
   "metadata": {},
   "source": [
    "## Create the Experiment Slices\n",
    "\n",
    "This notebook, will show how to set the following properties on a node:\n",
    "\n",
    "* Site: Choose the FABRIC site where your node will be hosted.\n",
    "* Host: Choose the specific worker node that the VM will run on.\n",
    "* Cores: Number of cores, amount of RAN\n",
    "* RAM: Amount of RAM\n",
    "* Disk: Amount of local disk space\n",
    "* VM Image: The operating system image used for the VM\n",
    "\n"
   ]
  },
  {
   "cell_type": "code",
   "execution_count": null,
   "metadata": {},
   "outputs": [],
   "source": [
    "slice_name = 'k8s-cluster-slice'\n",
    "site = fablib.get_random_site()\n",
    "print(f\"Site: {site}\")\n",
    "node1_name = 'Node1'\n",
    "node2_name = 'Node2'\n",
    "image = 'default_ubuntu_20'\n",
    "node1_nic_name = 'NIC1'\n",
    "node2_nic_name = 'NIC2'\n",
    "network_name = 'NET1'"
   ]
  },
  {
   "cell_type": "code",
   "execution_count": null,
   "metadata": {},
   "outputs": [],
   "source": [
    "available_images = fablib.get_image_names()\n",
    "\n",
    "print(f'Available images are: {available_images}')"
   ]
  },
  {
   "cell_type": "markdown",
   "metadata": {},
   "source": [
    "### For a single node cluster"
   ]
  },
  {
   "cell_type": "code",
   "execution_count": null,
   "metadata": {},
   "outputs": [],
   "source": [
    "#Create Slice\n",
    "slice = fablib.new_slice(slice_name)\n",
    "\n",
    "# Add node\n",
    "node = slice.add_node(name='Node1', \n",
    "                      site='MAX',\n",
    "                      cores=16, \n",
    "                      ram=32, \n",
    "                      disk=100, \n",
    "                      image='default_ubuntu_20')\n",
    "\n",
    "#Submit Slice Request\n",
    "slice.submit()"
   ]
  },
  {
   "cell_type": "markdown",
   "metadata": {},
   "source": [
    "### For a multi-node cluster"
   ]
  },
  {
   "cell_type": "code",
   "execution_count": null,
   "metadata": {},
   "outputs": [],
   "source": [
    "try:\n",
    "    #Create Slice\n",
    "    slice = fablib.new_slice(slice_name)\n",
    "\n",
    "    # Add node\n",
    "    node1 = slice.add_node(name=node1_name, site=site, image=image)\n",
    "    iface1 = node1.add_component(model='NIC_Basic', name=node1_nic_name).get_interfaces()[0]\n",
    "    \n",
    "    # Add node\n",
    "    node2 = slice.add_node(name=node2_name, site=site, image=image)\n",
    "    iface2 = node2.add_component(model='NIC_Basic', name=node2_nic_name).get_interfaces()[0]\n",
    "    \n",
    "    # Network\n",
    "    net1 = slice.add_l3network(name=network_name, interfaces=[iface1, iface2], type='IPv4')\n",
    "    \n",
    "    #Submit Slice Request\n",
    "    slice_id = slice.submit()\n",
    "    \n",
    "except Exception as e:\n",
    "    print(f\"{e}\")"
   ]
  },
  {
   "cell_type": "markdown",
   "metadata": {},
   "source": [
    "### Show the slice's attributes"
   ]
  },
  {
   "cell_type": "code",
   "execution_count": null,
   "metadata": {},
   "outputs": [],
   "source": [
    "slice.show();"
   ]
  },
  {
   "cell_type": "code",
   "execution_count": null,
   "metadata": {},
   "outputs": [],
   "source": [
    "slice.list_nodes();"
   ]
  },
  {
   "cell_type": "markdown",
   "metadata": {},
   "source": [
    "## Delete the slices\n",
    "\n",
    "Please delete your slice when you are done with your experiment."
   ]
  },
  {
   "cell_type": "code",
   "execution_count": null,
   "metadata": {},
   "outputs": [],
   "source": [
    "slice.delete()"
   ]
  }
 ],
 "metadata": {
  "kernelspec": {
   "display_name": "Python 3",
   "language": "python",
   "name": "python3"
  },
  "language_info": {
   "name": "python",
   "version": "3.12.3"
  }
 },
 "nbformat": 4,
 "nbformat_minor": 2
}
